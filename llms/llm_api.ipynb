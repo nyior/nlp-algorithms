{
 "cells": [
  {
   "cell_type": "code",
   "execution_count": 1,
   "id": "21c28647",
   "metadata": {},
   "outputs": [],
   "source": [
    "import openai \n",
    "import config"
   ]
  },
  {
   "cell_type": "code",
   "execution_count": 5,
   "id": "f9623c9a",
   "metadata": {},
   "outputs": [],
   "source": [
    "api_key = config.api_key\n",
    "client = openai.OpenAI(api_key=api_key)"
   ]
  },
  {
   "cell_type": "markdown",
   "id": "dfa747f0",
   "metadata": {},
   "source": [
    "## Generating Text"
   ]
  },
  {
   "cell_type": "code",
   "execution_count": null,
   "id": "44c8e9cf",
   "metadata": {},
   "outputs": [
    {
     "name": "stdout",
     "output_type": "stream",
     "text": [
      "once upon a time , in a faraway land, there was a small village nestled in the rolling\n"
     ]
    }
   ],
   "source": [
    "def generate_text(prompt):\n",
    "    response = client.responses.create(\n",
    "        model=\"gpt-3.5-turbo\",\n",
    "        input=prompt,\n",
    "        max_output_tokens=16,\n",
    "        temperature=0.7 # The degree of randomness - 0: least random, 1: most random\n",
    "    )\n",
    "\n",
    "    return response.output_text\n",
    "\n",
    "prompt = \"once upon a time\"\n",
    "resp = generate_text(prompt)\n",
    "\n",
    "print(prompt, resp)"
   ]
  },
  {
   "cell_type": "markdown",
   "id": "a1cce4ec",
   "metadata": {},
   "source": [
    "## Summarizing text\n",
    "\n",
    "### Message Roles in Model Interaction\n",
    "\n",
    "We create our function and provide messages to the model with instructions and examples of how we want the model to respond. There are three roles that can be used for messages:\n",
    "\n",
    "- **System messages:** These provide instructions to the model on what you want it to do and how it should respond and behave.\n",
    "- **User messages:** This is an example of a user input. In this case, the user input would be the block of text we want to summarize.\n",
    "- **Assistant messages:** This is an example of the correct output to the user input. Here, we have key words that have been pulled out from the block of text provided by the user. These assistant messages serve as examples of how the model should respond."
   ]
  },
  {
   "cell_type": "code",
   "execution_count": 24,
   "id": "0735108a",
   "metadata": {},
   "outputs": [
    {
     "name": "stdout",
     "output_type": "stream",
     "text": [
      "Master Reef Guide Kirsty Whitman didn't need to tell me twice. Peering down through my snorkel mask in the direction of her pointed finger, I spotted a huge male manta ray trailing a female in perfect sync – an effort to impress a potential mate, exactly as Whitman had described during her animated presentation the previous evening. Having some knowledge of what was unfolding before my eyes on our snorkelling safari made the encounter even more magical as I kicked against the current to admire this intimate undersea ballet for a few precious seconds more.\n"
     ]
    }
   ],
   "source": [
    "\n",
    "\n",
    "def summarise_text(text):\n",
    "    response = client.chat.completions.create(\n",
    "        model=\"gpt-3.5-turbo\",\n",
    "        messages= [\n",
    "            {\n",
    "            \"role\": \"system\",\n",
    "            \"content\": \"You will be provided with a block of text, and your task is to extract a list of keywords from it.\"\n",
    "            },\n",
    "            {\n",
    "            \"role\": \"user\",\n",
    "            \"content\": \"A flying saucer seen by a guest house, a 7ft alien-like figure coming out of a hedge and a \\\"cigar-shaped\\\" UFO near a school yard.\\n\\nThese are just some of the 450 reported extraterrestrial encounters from one of the UK's largest mass sightings in a remote Welsh village.\\n\\nThe village of Broad Haven has since been described as the \\\"Bermuda Triangle\\\" of mysterious craft sightings and sightings of strange beings.\\n\\nResidents who reported these encounters across a single year in the late seventies have now told their story to the new Netflix documentary series 'Encounters', made by Steven Spielberg's production company.\\n\\nIt all happened back in 1977, when the Cold War was at its height and Star Wars and Close Encounters of the Third Kind - Spielberg's first science fiction blockbuster - dominated the box office.\"\n",
    "            },\n",
    "            {\n",
    "            \"role\": \"assistant\",\n",
    "            \"content\": \"flying saucer, guest house, 7ft alien-like figure, hedge, cigar-shaped UFO, school yard, extraterrestrial encounters, UK, mass sightings, remote Welsh village, Broad Haven, Bermuda Triangle, mysterious craft sightings, strange beings, residents, single year, late seventies, Netflix documentary series, Steven Spielberg, production company, 1977, Cold War, Star Wars, Close Encounters of the Third Kind, science fiction blockbuster, box office.\"\n",
    "            },\n",
    "            {\n",
    "            \"role\": \"user\",\n",
    "            \"content\": \"Each April, in the village of Maeliya in northwest Sri Lanka, Pinchal Weldurelage Siriwardene gathers his community under the shade of a large banyan tree. The tree overlooks a human-made body of water called a wewa – meaning reservoir or \\\"tank\\\" in Sinhala. The wewa stretches out besides the village's rice paddies for 175-acres (708,200 sq m) and is filled with the rainwater of preceding months.    \\n\\nSiriwardene, the 76-year-old secretary of the village's agrarian committee, has a tightly-guarded ritual to perform. By boiling coconut milk on an open hearth beside the tank, he will seek blessings for a prosperous harvest from the deities residing in the tree. \\\"It's only after that we open the sluice gate to water the rice fields,\\\" he told me when I visited on a scorching mid-April afternoon.\\n\\nBy releasing water into irrigation canals below, the tank supports the rice crop during the dry months before the rains arrive. For nearly two millennia, lake-like water bodies such as this have helped generations of farmers cultivate their fields. An old Sinhala phrase, \\\"wewai dagabai gamai pansalai\\\", even reflects the technology's centrality to village life; meaning \\\"tank, pagoda, village and temple\\\".\"\n",
    "            },\n",
    "            {\n",
    "            \"role\": \"assistant\",\n",
    "            \"content\": \"April, Maeliya, northwest Sri Lanka, Pinchal Weldurelage Siriwardene, banyan tree, wewa, reservoir, tank, Sinhala, rice paddies, 175-acres, 708,200 sq m, rainwater, agrarian committee, coconut milk, open hearth, blessings, prosperous harvest, deities, sluice gate, rice fields, irrigation canals, dry months, rains, lake-like water bodies, farmers, cultivate, Sinhala phrase, technology, village life, pagoda, temple.\"\n",
    "            }, \n",
    "            {\n",
    "            \"role\": \"user\",\n",
    "            \"content\": prompt\n",
    "            }\n",
    "        ],\n",
    "        temperature=0.5,\n",
    "        max_completion_tokens=256\n",
    "\n",
    "    )\n",
    "\n",
    "    return response.choices[0].message.content.strip()\n",
    "\n",
    "prompt = \"Master Reef Guide Kirsty Whitman didn't need to tell me twice. Peering down through my snorkel mask in the direction of her pointed finger, I spotted a huge male manta ray trailing a female in perfect sync – an effort to impress a potential mate, exactly as Whitman had described during her animated presentation the previous evening. Having some knowledge of what was unfolding before my eyes on our snorkelling safari made the encounter even more magical as I kicked against the current to admire this intimate undersea ballet for a few precious seconds more.\"\n",
    "\n",
    "\n",
    "print(prompt)"
   ]
  },
  {
   "cell_type": "code",
   "execution_count": 25,
   "id": "dad204ac",
   "metadata": {},
   "outputs": [
    {
     "name": "stdout",
     "output_type": "stream",
     "text": [
      "Master Reef Guide, Kirsty Whitman, snorkel mask, male manta ray, female, sync, potential mate, animated presentation, snorkelling safari, encounter, magical, current, undersea ballet.\n"
     ]
    }
   ],
   "source": [
    "resp = summarise_text(prompt)\n",
    "print(resp)"
   ]
  },
  {
   "cell_type": "markdown",
   "id": "1fad6bf2",
   "metadata": {},
   "source": [
    "## Poetic chatbot"
   ]
  },
  {
   "cell_type": "code",
   "execution_count": 27,
   "id": "ae97f33b",
   "metadata": {},
   "outputs": [
    {
     "name": "stdout",
     "output_type": "stream",
     "text": [
      "Nyior Clement, a name so grand, a developer advocate with skills in hand. In the tech world, he shines bright, guiding others with his insightful light. Sharing knowledge and wisdom, he does so with glee, in the realm of technology, a true devotee.\n"
     ]
    }
   ],
   "source": [
    "def chat_bot(prompt):\n",
    "    response = client.chat.completions.create(\n",
    "        model=\"gpt-3.5-turbo\",\n",
    "        messages=[\n",
    "            {\n",
    "                \"role\": \"system\",\n",
    "                \"content\": \"You are a poetic chatbot.\"\n",
    "            },\n",
    "            {\n",
    "                \"role\": \"user\",\n",
    "                \"content\": \"When was Google founded?\"\n",
    "            },\n",
    "            {\n",
    "                \"role\": \"assistant\",\n",
    "                \"content\": \"In the late '90s, a spark did ignite, Google emerged, a radiant light. By Larry and Sergey, in '98, it was born, a search engine new, on the web it was sworn.\"\n",
    "            },\n",
    "            {\n",
    "                \"role\": \"user\",\n",
    "                \"content\": \"Which country has the youngest president?\"\n",
    "            },\n",
    "            {\n",
    "                \"role\": \"assistant\",\n",
    "                \"content\": \"Ah, the pursuit of youth in politics, a theme we explore. In Austria, Sebastian Kurz did implore, at the age of 31, his journey did begin, leading with vigor, in a world filled with din.\"\n",
    "            },\n",
    "            {\n",
    "                \"role\": \"user\",\n",
    "                \"content\": prompt\n",
    "            }\n",
    "        ],\n",
    "        temperature=0.5,\n",
    "        max_completion_tokens=256\n",
    "    )\n",
    "\n",
    "    return response.choices[0].message.content.strip()\n",
    "\n",
    "prompt = \"Who is Nyior Clement the developer advocate\"\n",
    "chat_resp = chat_bot(prompt)\n",
    "print(chat_resp)"
   ]
  },
  {
   "cell_type": "markdown",
   "id": "ff9ef070",
   "metadata": {},
   "source": [
    "## Langchain"
   ]
  },
  {
   "cell_type": "code",
   "execution_count": 28,
   "id": "62c6c645",
   "metadata": {},
   "outputs": [
    {
     "name": "stderr",
     "output_type": "stream",
     "text": [
      "USER_AGENT environment variable not set, consider setting it to identify your requests.\n"
     ]
    }
   ],
   "source": [
    "from langchain.document_loaders import WebBaseLoader\n",
    "from langchain.text_splitter import RecursiveCharacterTextSplitter\n",
    "from langchain.embeddings import OpenAIEmbeddings\n",
    "from langchain.vectorstores import FAISS\n",
    "from langchain.memory import ConversationBufferMemory\n",
    "from langchain.llms import OpenAI\n",
    "from langchain.chains import ConversationalRetrievalChain\n",
    "from langchain.chat_models import ChatOpenAI"
   ]
  },
  {
   "cell_type": "code",
   "execution_count": 32,
   "id": "fc9ddab2",
   "metadata": {},
   "outputs": [
    {
     "name": "stderr",
     "output_type": "stream",
     "text": [
      "/var/folders/jr/f0qqbf7x1jz_k7v8_55tf3ph0000gn/T/ipykernel_44101/652069087.py:18: LangChainDeprecationWarning: Please see the migration guide at: https://python.langchain.com/docs/versions/migrating_memory/\n",
      "  memory = ConversationBufferMemory(memory_key=\"chat_history\", return_messages=True)\n",
      "/var/folders/jr/f0qqbf7x1jz_k7v8_55tf3ph0000gn/T/ipykernel_44101/652069087.py:20: LangChainDeprecationWarning: The class `ChatOpenAI` was deprecated in LangChain 0.0.10 and will be removed in 1.0. An updated version of the class exists in the :class:`~langchain-openai package and should be used instead. To use it run `pip install -U :class:`~langchain-openai` and import as `from :class:`~langchain_openai import ChatOpenAI``.\n",
      "  ChatOpenAI(\n"
     ]
    }
   ],
   "source": [
    "url = \"https://365datascience.com/upcoming-courses\"\n",
    "loader = WebBaseLoader(url)\n",
    "\n",
    "# Create raw langchain documents\n",
    "documents = loader.load()\n",
    "\n",
    "# Break documents into small chunks\n",
    "text_splitter = RecursiveCharacterTextSplitter()\n",
    "documents = text_splitter.split_documents(documents)\n",
    "\n",
    "# Create embeddings -> numerical representations of our text content\n",
    "embeddings = OpenAIEmbeddings(openai_api_key=api_key)\n",
    "\n",
    "# Persist our embeddings in a vector store\n",
    "vectorstore = FAISS.from_documents(documents, embeddings)\n",
    "\n",
    "# Memory\n",
    "memory = ConversationBufferMemory(memory_key=\"chat_history\", return_messages=True)\n",
    "qa = ConversationalRetrievalChain.from_llm(\n",
    "    ChatOpenAI(\n",
    "        openai_api_key=api_key,\n",
    "        model=\"gpt-3.5-turbo\",\n",
    "        temperature=0\n",
    "    ),\n",
    "    vectorstore.as_retriever(),\n",
    "    memory=memory\n",
    ")\n"
   ]
  },
  {
   "cell_type": "code",
   "execution_count": 33,
   "id": "84040901",
   "metadata": {},
   "outputs": [
    {
     "name": "stderr",
     "output_type": "stream",
     "text": [
      "/var/folders/jr/f0qqbf7x1jz_k7v8_55tf3ph0000gn/T/ipykernel_44101/1066339053.py:2: LangChainDeprecationWarning: The method `Chain.__call__` was deprecated in langchain 0.1.0 and will be removed in 1.0. Use :meth:`~invoke` instead.\n",
      "  result = qa({\"question\": query})\n"
     ]
    },
    {
     "data": {
      "text/plain": [
       "'The next course to be uploaded on the 365DataScience platform is \"Copilot in Excel\" with Ivan Kitov. It is a hands-on course exploring Microsoft Copilot—an AI-powered assistant built directly into Excel. The course will help individuals transform the way they work with spreadsheets by learning to communicate with Excel using natural language, automate tasks, analyze complex datasets, and uncover insights faster than ever before.'"
      ]
     },
     "execution_count": 33,
     "metadata": {},
     "output_type": "execute_result"
    }
   ],
   "source": [
    "query = \"What is the next course to be uploaded on the 365DataScience platform\"\n",
    "result = qa({\"question\": query})\n",
    "result[\"answer\"]"
   ]
  }
 ],
 "metadata": {
  "kernelspec": {
   "display_name": "bank-app-env",
   "language": "python",
   "name": "python3"
  },
  "language_info": {
   "codemirror_mode": {
    "name": "ipython",
    "version": 3
   },
   "file_extension": ".py",
   "mimetype": "text/x-python",
   "name": "python",
   "nbconvert_exporter": "python",
   "pygments_lexer": "ipython3",
   "version": "3.11.0"
  }
 },
 "nbformat": 4,
 "nbformat_minor": 5
}
