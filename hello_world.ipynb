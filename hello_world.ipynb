{
 "cells": [
  {
   "cell_type": "code",
   "execution_count": null,
   "id": "b29f7dd7",
   "metadata": {},
   "outputs": [
    {
     "name": "stdout",
     "output_type": "stream",
     "text": [
      "her cat's name is luna\n"
     ]
    }
   ],
   "source": [
    "sentence = \"Her cat's name is Luna\"\n",
    "lower_sentence = sentence.lower()\n",
    "print(lower_sentence)\n"
   ]
  },
  {
   "cell_type": "code",
   "execution_count": 2,
   "id": "a3eebf9a",
   "metadata": {},
   "outputs": [
    {
     "name": "stdout",
     "output_type": "stream",
     "text": [
      "['could you pass me the tv remote?', 'it is impossible to find this hotel', 'want to go for dinner on tuesday?']\n"
     ]
    }
   ],
   "source": [
    "sentence_list = ['Could you pass me the TV remote?', \n",
    "                 'It is IMPOSSIBLE to find this hotel', \n",
    "                 'Want to go for dinner on Tuesday?']\n",
    "lower_sentence_list = [s.lower() for s in sentence_list]\n",
    "print(lower_sentence_list)"
   ]
  },
  {
   "cell_type": "code",
   "execution_count": null,
   "id": "6a596c29",
   "metadata": {},
   "outputs": [],
   "source": [
    "# Removing stop words - stop words are common words that do not add much meaning to a sentence. for example, \"the\", \"is\", \"in\", \"and\", etc.\n",
    "# These words are often removed in natural language processing tasks to focus on the more meaningful words in a sentence.\n",
    "import nltk\n",
    "nltk.download('stopwords')\n",
    "from nltk.corpus import stopwords\n"
   ]
  },
  {
   "cell_type": "code",
   "execution_count": 12,
   "id": "32347e4f",
   "metadata": {},
   "outputs": [
    {
     "name": "stdout",
     "output_type": "stream",
     "text": [
      "far go shop want walk\n",
      "far go shop did not want walk\n",
      "far shop did not want walk\n"
     ]
    }
   ],
   "source": [
    "eng_stopwords = set(stopwords.words('english'))\n",
    "sentence = \"it was too far to go to the shop and he did not want her to walk\"\n",
    "filtered_sentence = ' '.join([word for word in sentence.split() if word.lower() not in eng_stopwords])\n",
    "print(filtered_sentence)\n",
    "\n",
    "# Can remove words from our stop words list\n",
    "eng_stopwords.remove('did')\n",
    "eng_stopwords.remove('not')\n",
    "s_filtered_sentence = ' '.join([word for word in sentence.split() if word.lower() not in eng_stopwords])\n",
    "print(s_filtered_sentence)\n",
    "\n",
    "# Can also add words to our stop words list\n",
    "eng_stopwords.add(\"go\")\n",
    "t_filtered_sentence = ' '.join([word for word in sentence.split() if word.lower() not in eng_stopwords])\n",
    "print(t_filtered_sentence)"
   ]
  }
 ],
 "metadata": {
  "kernelspec": {
   "display_name": "bank-app-env",
   "language": "python",
   "name": "python3"
  },
  "language_info": {
   "codemirror_mode": {
    "name": "ipython",
    "version": 3
   },
   "file_extension": ".py",
   "mimetype": "text/x-python",
   "name": "python",
   "nbconvert_exporter": "python",
   "pygments_lexer": "ipython3",
   "version": "3.11.0"
  }
 },
 "nbformat": 4,
 "nbformat_minor": 5
}
