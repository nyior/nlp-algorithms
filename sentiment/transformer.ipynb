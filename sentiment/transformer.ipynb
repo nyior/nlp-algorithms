{
 "cells": [
  {
   "cell_type": "code",
   "execution_count": 2,
   "id": "fae9c4fc",
   "metadata": {},
   "outputs": [
    {
     "data": {
      "text/plain": [
       "'\\nTranformers is a library for natural language processing tasks, providing \\npre-trained models and pipelines for tasks like text classification, \\nnamed entity recognition, and more.\\n\\nTransformers are generally not rule-based but rather use deep learning\\nmodels trained on large datasets to understand and generate human language.\\nThey can be used for a variety of tasks including text generation, \\ntranslation, summarization, and more.\\n'"
      ]
     },
     "execution_count": 2,
     "metadata": {},
     "output_type": "execute_result"
    }
   ],
   "source": [
    "import transformers\n",
    "from transformers import pipeline\n",
    "\n",
    "\"\"\"\n",
    "Tranformers is a library for natural language processing tasks, providing \n",
    "pre-trained models and pipelines for tasks like text classification, \n",
    "named entity recognition, and more.\n",
    "\n",
    "Transformers are generally not rule-based but rather use deep learning\n",
    "models trained on large datasets to understand and generate human language.\n",
    "They can be used for a variety of tasks including text generation, \n",
    "translation, summarization, and more.\n",
    "\"\"\""
   ]
  },
  {
   "cell_type": "code",
   "execution_count": null,
   "id": "4ab5895c",
   "metadata": {},
   "outputs": [
    {
     "name": "stderr",
     "output_type": "stream",
     "text": [
      "No model was supplied, defaulted to distilbert/distilbert-base-uncased-finetuned-sst-2-english and revision 714eb0f (https://huggingface.co/distilbert/distilbert-base-uncased-finetuned-sst-2-english).\n",
      "Using a pipeline without specifying a model name and revision in production is not recommended.\n"
     ]
    },
    {
     "data": {
      "application/vnd.jupyter.widget-view+json": {
       "model_id": "48dbdd706e0a47a4b044e92a3fee9b9a",
       "version_major": 2,
       "version_minor": 0
      },
      "text/plain": [
       "model.safetensors:   0%|          | 0.00/268M [00:00<?, ?B/s]"
      ]
     },
     "metadata": {},
     "output_type": "display_data"
    },
    {
     "data": {
      "application/vnd.jupyter.widget-view+json": {
       "model_id": "b8f3e0e5be9048f2bfbb4a876913109e",
       "version_major": 2,
       "version_minor": 0
      },
      "text/plain": [
       "tokenizer_config.json:   0%|          | 0.00/48.0 [00:00<?, ?B/s]"
      ]
     },
     "metadata": {},
     "output_type": "display_data"
    },
    {
     "data": {
      "application/vnd.jupyter.widget-view+json": {
       "model_id": "9744d13f98714fd8bd95e7eae1e4636b",
       "version_major": 2,
       "version_minor": 0
      },
      "text/plain": [
       "vocab.txt: 0.00B [00:00, ?B/s]"
      ]
     },
     "metadata": {},
     "output_type": "display_data"
    },
    {
     "name": "stderr",
     "output_type": "stream",
     "text": [
      "Device set to use mps:0\n"
     ]
    },
    {
     "name": "stdout",
     "output_type": "stream",
     "text": [
      "Sentence: i had a great time at the movie it was really funny | Sentiment: [{'label': 'POSITIVE', 'score': 0.9998176693916321}]\n",
      "Sentence: i had a great time at the movie but the parking was terrible | Sentiment: [{'label': 'NEGATIVE', 'score': 0.9977464079856873}]\n",
      "Sentence: i had a great time at the movie but the parking wasn't great | Sentiment: [{'label': 'NEGATIVE', 'score': 0.9984902143478394}]\n",
      "Sentence: i went to see a movie | Sentiment: [{'label': 'POSITIVE', 'score': 0.9802700281143188}]\n"
     ]
    }
   ],
   "source": [
    "sentiment_pipeline = pipeline(\"sentiment-analysis\")\n",
    "\n",
    "\n",
    "sentence_1 = \"i had a great time at the movie it was really funny\"\n",
    "sentence_2 = \"i had a great time at the movie but the parking was terrible\"\n",
    "sentence_3 = \"i had a great time at the movie but the parking wasn't great\"\n",
    "sentence_4 = \"i went to see a movie\"\n",
    "\n",
    "# sentiment_pipeline returns a list of dictionaries with sentiment labels and scores\n",
    "# Each dictionary contains a 'label' (e.g., 'POSITIVE', 'NEGATIVE') and a 'score' (confidence level)\n",
    "print(f\"Sentence: {sentence_1} | Sentiment: {sentiment_pipeline(sentence_1)}\") \n",
    "print(f\"Sentence: {sentence_2} | Sentiment: {sentiment_pipeline(sentence_2)}\")\n",
    "print(f\"Sentence: {sentence_3} | Sentiment: {sentiment_pipeline(sentence_3)}\")\n",
    "print(f\"Sentence: {sentence_4} | Sentiment: {sentiment_pipeline(sentence_4)}\")"
   ]
  },
  {
   "cell_type": "code",
   "execution_count": 4,
   "id": "2849bd1d",
   "metadata": {},
   "outputs": [
    {
     "data": {
      "application/vnd.jupyter.widget-view+json": {
       "model_id": "0b442afcea5846b4845deae407291dde",
       "version_major": 2,
       "version_minor": 0
      },
      "text/plain": [
       "config.json:   0%|          | 0.00/949 [00:00<?, ?B/s]"
      ]
     },
     "metadata": {},
     "output_type": "display_data"
    },
    {
     "data": {
      "application/vnd.jupyter.widget-view+json": {
       "model_id": "d017f4ea58c844d087a7dcf44a184fc3",
       "version_major": 2,
       "version_minor": 0
      },
      "text/plain": [
       "pytorch_model.bin:   0%|          | 0.00/540M [00:00<?, ?B/s]"
      ]
     },
     "metadata": {},
     "output_type": "display_data"
    },
    {
     "data": {
      "application/vnd.jupyter.widget-view+json": {
       "model_id": "981634e0c528439ebeae9d0045f20f7c",
       "version_major": 2,
       "version_minor": 0
      },
      "text/plain": [
       "tokenizer_config.json:   0%|          | 0.00/338 [00:00<?, ?B/s]"
      ]
     },
     "metadata": {},
     "output_type": "display_data"
    },
    {
     "data": {
      "application/vnd.jupyter.widget-view+json": {
       "model_id": "12fc78d1da6145a2ae4d11eba6f088e4",
       "version_major": 2,
       "version_minor": 0
      },
      "text/plain": [
       "vocab.txt: 0.00B [00:00, ?B/s]"
      ]
     },
     "metadata": {},
     "output_type": "display_data"
    },
    {
     "data": {
      "application/vnd.jupyter.widget-view+json": {
       "model_id": "0db283bf2ae04dd085c60f2696672de3",
       "version_major": 2,
       "version_minor": 0
      },
      "text/plain": [
       "model.safetensors:   0%|          | 0.00/540M [00:00<?, ?B/s]"
      ]
     },
     "metadata": {},
     "output_type": "display_data"
    },
    {
     "data": {
      "application/vnd.jupyter.widget-view+json": {
       "model_id": "942ad2b675f74083bcf91975bfb5877c",
       "version_major": 2,
       "version_minor": 0
      },
      "text/plain": [
       "bpe.codes: 0.00B [00:00, ?B/s]"
      ]
     },
     "metadata": {},
     "output_type": "display_data"
    },
    {
     "data": {
      "application/vnd.jupyter.widget-view+json": {
       "model_id": "028c81028db24db08071873714ae1cb6",
       "version_major": 2,
       "version_minor": 0
      },
      "text/plain": [
       "added_tokens.json:   0%|          | 0.00/22.0 [00:00<?, ?B/s]"
      ]
     },
     "metadata": {},
     "output_type": "display_data"
    },
    {
     "data": {
      "application/vnd.jupyter.widget-view+json": {
       "model_id": "4052a53032d440cbbcf0222ca309c05a",
       "version_major": 2,
       "version_minor": 0
      },
      "text/plain": [
       "special_tokens_map.json:   0%|          | 0.00/167 [00:00<?, ?B/s]"
      ]
     },
     "metadata": {},
     "output_type": "display_data"
    },
    {
     "name": "stderr",
     "output_type": "stream",
     "text": [
      "emoji is not installed, thus not converting emoticons or emojis into text. Install emoji: pip3 install emoji==0.6.0\n",
      "Device set to use mps:0\n",
      "/Users/nyiorclement/development/v-envs/bank-app-env/lib/python3.11/site-packages/torch/nn/modules/module.py:1762: FutureWarning: `encoder_attention_mask` is deprecated and will be removed in version 4.55.0 for `RobertaSdpaSelfAttention.forward`.\n",
      "  return forward_call(*args, **kwargs)\n"
     ]
    },
    {
     "name": "stdout",
     "output_type": "stream",
     "text": [
      "Sentence: i had a great time at the movie it was really funny | Sentiment: [{'label': 'POS', 'score': 0.9923344254493713}]\n",
      "Sentence: i had a great time at the movie but the parking was terrible | Sentiment: [{'label': 'NEG', 'score': 0.5355544090270996}]\n",
      "Sentence: i had a great time at the movie but the parking wasn't great | Sentiment: [{'label': 'POS', 'score': 0.6234411001205444}]\n",
      "Sentence: i went to see a movie | Sentiment: [{'label': 'NEU', 'score': 0.9007406234741211}]\n"
     ]
    }
   ],
   "source": [
    "# Trying out a specific model for sentiment analysis\n",
    "specific_model = pipeline(\"sentiment-analysis\", model=\"finiteautomata/bertweet-base-sentiment-analysis\")\n",
    "\n",
    "print(f\"Sentence: {sentence_1} | Sentiment: {specific_model(sentence_1)}\")\n",
    "print(f\"Sentence: {sentence_2} | Sentiment: {specific_model(sentence_2)}\")\n",
    "print(f\"Sentence: {sentence_3} | Sentiment: {specific_model(sentence_3)}\")\n",
    "print(f\"Sentence: {sentence_4} | Sentiment: {specific_model(sentence_4)}\")"
   ]
  }
 ],
 "metadata": {
  "kernelspec": {
   "display_name": "bank-app-env",
   "language": "python",
   "name": "python3"
  },
  "language_info": {
   "codemirror_mode": {
    "name": "ipython",
    "version": 3
   },
   "file_extension": ".py",
   "mimetype": "text/x-python",
   "name": "python",
   "nbconvert_exporter": "python",
   "pygments_lexer": "ipython3",
   "version": "3.11.0"
  }
 },
 "nbformat": 4,
 "nbformat_minor": 5
}
