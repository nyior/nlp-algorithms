{
 "cells": [
  {
   "cell_type": "code",
   "execution_count": null,
   "id": "5cf173c8",
   "metadata": {},
   "outputs": [
    {
     "name": "stdout",
     "output_type": "stream",
     "text": [
      "connecting : connect\n",
      "connected : connect\n",
      "connectivity : connect\n",
      "connect : connect\n",
      "connects : connect\n"
     ]
    }
   ],
   "source": [
    "# Stemming is the process of reducing a word to its base or root form. For example, \n",
    "# the words \"running\", \"ran\", and \"runner\" can all be reduced to the root word \"run\". \n",
    "# This is useful in natural language processing (NLP) as it allows us to analyze \n",
    "# text data more effectively by grouping similar words together.\n",
    "\n",
    "from nltk.stem import PorterStemmer\n",
    "ps = PorterStemmer()\n",
    "# The Porter Stemmer is a widely used stemming algorithm that is effective for English text.\n",
    "# It works by removing common suffixes from words to reduce them to their root form.\n",
    "# The Porter Stemmer is available in the NLTK library and can be used to stem\n",
    "# individual words or lists of words.\n",
    "# The Porter Stemmer is a rule-based algorithm that applies a series of rules to remove suffixes from words.\n",
    "# It is a simple and efficient algorithm that is widely used in NLP applications.\n",
    "\n",
    "connect_tokens = ['connecting', 'connected', 'connectivity', 'connect', 'connects']\n",
    "# Stemming the tokens\n",
    "\n",
    "for token in connect_tokens:\n",
    "    print(f\"{token} : {ps.stem(token)}\")"
   ]
  },
  {
   "cell_type": "code",
   "execution_count": 2,
   "id": "398ee9e4",
   "metadata": {},
   "outputs": [
    {
     "name": "stdout",
     "output_type": "stream",
     "text": [
      "learned : learn\n",
      "learning : learn\n",
      "learn : learn\n",
      "learns : learn\n",
      "learner : learner\n",
      "learners : learner\n"
     ]
    }
   ],
   "source": [
    "learn_tokens = ['learned', 'learning', 'learn', 'learns', 'learner', 'learners']\n",
    "\n",
    "for token in learn_tokens:\n",
    "    print(f\"{token} : {ps.stem(token)}\")"
   ]
  },
  {
   "cell_type": "code",
   "execution_count": 3,
   "id": "d3bb1435",
   "metadata": {},
   "outputs": [
    {
     "name": "stdout",
     "output_type": "stream",
     "text": [
      "likes : like\n",
      "better : better\n",
      "worse : wors\n"
     ]
    }
   ],
   "source": [
    "likes_tokens = ['likes', 'better', 'worse']\n",
    "for token in likes_tokens:\n",
    "    print(f\"{token} : {ps.stem(token)}\")\n"
   ]
  }
 ],
 "metadata": {
  "kernelspec": {
   "display_name": "bank-app-env",
   "language": "python",
   "name": "python3"
  },
  "language_info": {
   "codemirror_mode": {
    "name": "ipython",
    "version": 3
   },
   "file_extension": ".py",
   "mimetype": "text/x-python",
   "name": "python",
   "nbconvert_exporter": "python",
   "pygments_lexer": "ipython3",
   "version": "3.11.0"
  }
 },
 "nbformat": 4,
 "nbformat_minor": 5
}
