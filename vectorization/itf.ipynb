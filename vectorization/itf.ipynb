{
 "cells": [
  {
   "cell_type": "markdown",
   "id": "18b31523",
   "metadata": {},
   "source": [
    "TF - the number of times a word appears in a document. TF = no of times a word appears in a document/total number of words in the document\n",
    "IDF - is the measure of the importance of each word in a document. IDF = log of the total number of documents(total number of rows, for example) / the number of documents containing those terms (number of rows containing the word). In the end, commonly used words would have lower weights/importance, while more rarely used words would have higher importance\n"
   ]
  },
  {
   "cell_type": "code",
   "execution_count": 6,
   "id": "3fbcc717",
   "metadata": {},
   "outputs": [],
   "source": [
    "from sklearn.feature_extraction.text import TfidfVectorizer\n",
    "import pandas as pd\n",
    "\n",
    "data = [' Most shark attacks occur about 10 feet from the beach since that is where the people are',\n",
    "        'the efficiency with which he paired the socks in the drawer was quite admirable',\n",
    "        'carol drank the blood as if she were a vampire',\n",
    "        'giving directions that the mountains are to the west only works when you can see them',\n",
    "        'the sign said there was road work ahead so he decided to speed up',\n",
    "        'the gruff old man sat in the back of the bait shop grumbling to himself as he scooped out a handful of worms']"
   ]
  },
  {
   "cell_type": "code",
   "execution_count": 4,
   "id": "8a4191ce",
   "metadata": {},
   "outputs": [
    {
     "name": "stdout",
     "output_type": "stream",
     "text": [
      "TF-IDF Model: \n",
      " [[0.25706148 0.25706148 0.         0.         0.21079409 0.\n",
      "  0.25706148 0.         0.         0.25706148 0.         0.\n",
      "  0.         0.         0.         0.         0.         0.\n",
      "  0.25706148 0.25706148 0.         0.         0.         0.\n",
      "  0.         0.         0.         0.         0.25706148 0.\n",
      "  0.25706148 0.         0.25706148 0.         0.         0.\n",
      "  0.         0.         0.25706148 0.         0.         0.\n",
      "  0.         0.         0.         0.25706148 0.         0.\n",
      "  0.         0.25706148 0.         0.         0.         0.21079409\n",
      "  0.22821884 0.         0.         0.         0.         0.\n",
      "  0.         0.         0.         0.         0.25706148 0.\n",
      "  0.         0.         0.         0.         0.        ]\n",
      " [0.         0.         0.29364096 0.         0.         0.\n",
      "  0.         0.         0.         0.         0.         0.\n",
      "  0.         0.         0.         0.         0.29364096 0.29364096\n",
      "  0.         0.         0.         0.         0.         0.\n",
      "  0.20329128 0.         0.         0.24078978 0.         0.\n",
      "  0.         0.         0.         0.         0.         0.\n",
      "  0.         0.29364096 0.         0.29364096 0.         0.\n",
      "  0.         0.         0.         0.         0.         0.\n",
      "  0.         0.         0.         0.29364096 0.         0.\n",
      "  0.39104108 0.         0.         0.         0.         0.\n",
      "  0.24078978 0.         0.         0.         0.         0.29364096\n",
      "  0.29364096 0.         0.         0.         0.        ]\n",
      " [0.         0.         0.         0.         0.         0.29231337\n",
      "  0.         0.         0.         0.         0.3564735  0.\n",
      "  0.3564735  0.         0.         0.3564735  0.         0.\n",
      "  0.         0.         0.         0.         0.         0.\n",
      "  0.         0.         0.3564735  0.         0.         0.\n",
      "  0.         0.         0.         0.         0.         0.\n",
      "  0.         0.         0.         0.         0.         0.\n",
      "  0.         0.         0.         0.         0.3564735  0.\n",
      "  0.         0.         0.         0.         0.         0.\n",
      "  0.15823835 0.         0.         0.         0.         0.3564735\n",
      "  0.         0.3564735  0.         0.         0.         0.\n",
      "  0.         0.         0.         0.         0.        ]\n",
      " [0.         0.         0.         0.         0.22225687 0.\n",
      "  0.         0.         0.         0.         0.         0.27104024\n",
      "  0.         0.         0.27104024 0.         0.         0.\n",
      "  0.         0.         0.27104024 0.         0.         0.\n",
      "  0.         0.         0.         0.         0.         0.\n",
      "  0.         0.27104024 0.         0.         0.         0.27104024\n",
      "  0.         0.         0.         0.         0.         0.\n",
      "  0.         0.         0.27104024 0.         0.         0.\n",
      "  0.         0.         0.         0.         0.         0.22225687\n",
      "  0.24062916 0.27104024 0.         0.18764452 0.         0.\n",
      "  0.         0.         0.27104024 0.27104024 0.         0.\n",
      "  0.         0.         0.27104024 0.         0.27104024]\n",
      " [0.         0.         0.         0.29076571 0.         0.\n",
      "  0.         0.         0.         0.         0.         0.\n",
      "  0.         0.29076571 0.         0.         0.         0.\n",
      "  0.         0.         0.         0.         0.         0.\n",
      "  0.20130071 0.         0.         0.         0.         0.\n",
      "  0.         0.         0.         0.         0.         0.\n",
      "  0.         0.         0.         0.         0.29076571 0.29076571\n",
      "  0.         0.         0.         0.         0.         0.\n",
      "  0.29076571 0.         0.29076571 0.         0.29076571 0.\n",
      "  0.12907071 0.         0.29076571 0.20130071 0.29076571 0.\n",
      "  0.23843204 0.         0.         0.         0.         0.\n",
      "  0.         0.29076571 0.         0.         0.        ]\n",
      " [0.         0.         0.         0.         0.         0.17861523\n",
      "  0.         0.21781965 0.21781965 0.         0.         0.\n",
      "  0.         0.         0.         0.         0.         0.\n",
      "  0.         0.         0.         0.21781965 0.21781965 0.21781965\n",
      "  0.15079925 0.21781965 0.         0.17861523 0.         0.21781965\n",
      "  0.         0.         0.         0.43563929 0.21781965 0.\n",
      "  0.21781965 0.         0.         0.         0.         0.\n",
      "  0.21781965 0.21781965 0.         0.         0.         0.21781965\n",
      "  0.         0.         0.         0.         0.         0.\n",
      "  0.29006999 0.         0.         0.15079925 0.         0.\n",
      "  0.         0.         0.         0.         0.         0.\n",
      "  0.         0.         0.         0.21781965 0.        ]] \n",
      "\n",
      "\n"
     ]
    }
   ],
   "source": [
    "tfidf_vectorizer = TfidfVectorizer()\n",
    "tfidf_fit = tfidf_vectorizer.fit_transform(data)  # Fit and transform the data - this creates the TF-IDF model\n",
    "print(\"TF-IDF Model: \\n\", tfidf_fit.toarray(), \"\\n\\n\")"
   ]
  },
  {
   "cell_type": "code",
   "execution_count": 7,
   "id": "329eef64",
   "metadata": {},
   "outputs": [
    {
     "name": "stdout",
     "output_type": "stream",
     "text": [
      "TF-IDF Bag of Words: \n",
      "          10     about  admirable     ahead  ...      work    works    worms      you\n",
      "0  0.257061  0.257061   0.000000  0.000000  ...  0.000000  0.00000  0.00000  0.00000\n",
      "1  0.000000  0.000000   0.293641  0.000000  ...  0.000000  0.00000  0.00000  0.00000\n",
      "2  0.000000  0.000000   0.000000  0.000000  ...  0.000000  0.00000  0.00000  0.00000\n",
      "3  0.000000  0.000000   0.000000  0.000000  ...  0.000000  0.27104  0.00000  0.27104\n",
      "4  0.000000  0.000000   0.000000  0.290766  ...  0.290766  0.00000  0.00000  0.00000\n",
      "5  0.000000  0.000000   0.000000  0.000000  ...  0.000000  0.00000  0.21782  0.00000\n",
      "\n",
      "[6 rows x 71 columns] \n",
      "\n",
      "\n"
     ]
    }
   ],
   "source": [
    "tfidf_bag = pd.DataFrame(tfidf_fit.toarray(), columns=tfidf_vectorizer.get_feature_names_out())\n",
    "print(\"TF-IDF Bag of Words: \\n\", tfidf_bag, \"\\n\\n\")"
   ]
  }
 ],
 "metadata": {
  "kernelspec": {
   "display_name": "bank-app-env",
   "language": "python",
   "name": "python3"
  },
  "language_info": {
   "codemirror_mode": {
    "name": "ipython",
    "version": 3
   },
   "file_extension": ".py",
   "mimetype": "text/x-python",
   "name": "python",
   "nbconvert_exporter": "python",
   "pygments_lexer": "ipython3",
   "version": "3.11.0"
  }
 },
 "nbformat": 4,
 "nbformat_minor": 5
}
