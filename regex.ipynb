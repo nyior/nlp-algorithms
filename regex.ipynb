{
 "cells": [
  {
   "cell_type": "code",
   "execution_count": null,
   "id": "f8061034",
   "metadata": {},
   "outputs": [],
   "source": [
    "import re\n",
    "print(r\"C:\\Users\\nyiorclement\\development\\personal\\nlp\\hello_world.ipynb\") # r - raw string to avoid escape sequences and other sepcial characters"
   ]
  },
  {
   "cell_type": "code",
   "execution_count": null,
   "id": "71bacb9a",
   "metadata": {},
   "outputs": [],
   "source": [
    "# find a certain pattern at any position in a string\n",
    "pattern = r\"hello\"\n",
    "text = \"hello world\"\n",
    "match = re.search(pattern, text)  # search returns a match object if the pattern is found, otherwise it returns None\n",
    "print(match)  # <re.Match object; span=(0, 5), match='hello'>\n",
    "\n",
    "# A scenario where there is no match\n",
    "text = \"world of valor\"\n",
    "match = re.search(pattern, text)\n",
    "print(match)  # None"
   ]
  },
  {
   "cell_type": "code",
   "execution_count": null,
   "id": "6f137b9d",
   "metadata": {},
   "outputs": [],
   "source": [
    "# Replacing a text pattern in a sentence with another text\n",
    "text = \"hello world\"\n",
    "pattern = r\"world\"\n",
    "replacement = \"universe\"\n",
    "new = re.sub(pattern, replacement, text) # (pattern to find in text, replacement text, original text)\n",
    "print(new)"
   ]
  },
  {
   "cell_type": "code",
   "execution_count": null,
   "id": "f7ad5e9a",
   "metadata": {},
   "outputs": [
    {
     "name": "stdout",
     "output_type": "stream",
     "text": [
      "['Sarah was able to help me find the items i needed quickly', 'great service from sara she found me what i wanted']\n"
     ]
    }
   ],
   "source": [
    "reviews = ['sam was a great help to me in the store', \n",
    " 'the cashier was very rude to me, I think her name was eleanor', \n",
    " 'amazing work from sadeen!', \n",
    " 'Sarah was able to help me find the items i needed quickly', \n",
    " 'lucy is such a great addition to the team', \n",
    " 'great service from sara she found me what i wanted']\n",
    "\n",
    "# extracting reviews for sarah/sara\n",
    "pattern = r\"sarah?\" # 'sarah' or 'sara' (optional 'h')\n",
    "sarah_reviews = [review for review in reviews if re.search(pattern, review, re.IGNORECASE)]  # using lower() to make the search case-insensitive\n",
    "print(sarah_reviews) "
   ]
  },
  {
   "cell_type": "code",
   "execution_count": null,
   "id": "1bdd093f",
   "metadata": {},
   "outputs": [
    {
     "name": "stdout",
     "output_type": "stream",
     "text": [
      "['amazing work from sadeen!']\n",
      "['amazing work from sadeen!']\n"
     ]
    }
   ],
   "source": [
    "# Find reviews that start with 'a'\n",
    "pattern = r\"a\"\n",
    "a_reviews = [review for review in reviews if re.match(pattern, review, re.IGNORECASE)]  # re.match checks if the pattern matches at the start of the string\n",
    "print(a_reviews)\n",
    "\n",
    "# Alternative approach\n",
    "pattern = r\"^a\"  # '^' indicates the start of the string\n",
    "a_reviews = [review for review in reviews if re.match(pattern, review, re.IGNORECASE)]\n",
    "print(a_reviews)"
   ]
  },
  {
   "cell_type": "code",
   "execution_count": 17,
   "id": "6974105e",
   "metadata": {},
   "outputs": [
    {
     "name": "stdout",
     "output_type": "stream",
     "text": [
      "['Sarah was able to help me find the items i needed quickly']\n"
     ]
    }
   ],
   "source": [
    "# Find reviews that end with 'y'\n",
    "pattern = r\"y$\"  # '$' indicates the end of the string\n",
    "y_reviews = [review for review in reviews if re.search(pattern, review, re.IGNORECASE)]  # re.search checks if the pattern matches at any position in the string\n",
    "print(y_reviews)"
   ]
  },
  {
   "cell_type": "code",
   "execution_count": 24,
   "id": "efe10919",
   "metadata": {},
   "outputs": [
    {
     "name": "stdout",
     "output_type": "stream",
     "text": [
      "['Sarah was able to help me find the items i needed quickly', 'great service from sara she found me what i wanted']\n"
     ]
    }
   ],
   "source": [
    "# Find reviews that match more than one word/pattern\n",
    "pattern = r\"(need|want)ed\" # 'need' or 'wanted'\n",
    "matched_reviews = [review for review in reviews if re.search(pattern, review, re.IGNORECASE)]  \n",
    "print(matched_reviews)"
   ]
  },
  {
   "cell_type": "code",
   "execution_count": 26,
   "id": "9e8e76a3",
   "metadata": {},
   "outputs": [
    {
     "name": "stdout",
     "output_type": "stream",
     "text": [
      "['sam was a great help to me in the store', 'the cashier was very rude to me I think her name was eleanor', 'amazing work from sadeen', 'Sarah was able to help me find the items i needed quickly', 'lucy is such a great addition to the team', 'great service from sara she found me what i wanted']\n"
     ]
    }
   ],
   "source": [
    "# Remove punctuation from reviews\n",
    "punctuation = r\"[^\\w\\s]\" # matches any character that is not a word character, digit, or whitespace\n",
    "\n",
    "\"\"\"\n",
    "Inside a class [...], ^ means “not any of these.”\n",
    "\n",
    "\\w = word characters (letters, digits, underscore; Unicode‑aware by default in Python 3)\n",
    "\n",
    "\\d = digits (subset of \\w)\n",
    "\n",
    "\\s = whitespace (space, tab, newline, etc.)\n",
    "\"\"\"\n",
    "reviews_no_punctuation = [re.sub(punctuation, \"\", review) for review in reviews]\n",
    "print(reviews_no_punctuation)"
   ]
  },
  {
   "cell_type": "code",
   "execution_count": null,
   "id": "942bbef1",
   "metadata": {},
   "outputs": [],
   "source": []
  }
 ],
 "metadata": {
  "kernelspec": {
   "display_name": "bank-app-env",
   "language": "python",
   "name": "python3"
  },
  "language_info": {
   "codemirror_mode": {
    "name": "ipython",
    "version": 3
   },
   "file_extension": ".py",
   "mimetype": "text/x-python",
   "name": "python",
   "nbconvert_exporter": "python",
   "pygments_lexer": "ipython3",
   "version": "3.11.0"
  }
 },
 "nbformat": 4,
 "nbformat_minor": 5
}
