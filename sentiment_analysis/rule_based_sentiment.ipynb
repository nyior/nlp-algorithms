{
 "cells": [
  {
   "cell_type": "markdown",
   "id": "d6beaacc",
   "metadata": {},
   "source": [
    "## Sentiment analysis\n",
    "\n",
    "Identifying the undelrying tone/sentiment in a text - positive, negative, or neutral"
   ]
  },
  {
   "cell_type": "code",
   "execution_count": null,
   "id": "2f878505",
   "metadata": {},
   "outputs": [],
   "source": [
    "# Rule based sentiment analysis\n",
    "# Using a predefined list of words with associated sentiment scores\n",
    "\n",
    "sentence_1 = \"i had a great time at the movie it was really funny\"\n",
    "sentence_2 = \"i had a great time at the movie but the parking was terrible\"\n",
    "sentence_3 = \"i had a great time at the movie but the parking wasn't great\"\n",
    "sentence_4 = \"i went to see a movie\""
   ]
  },
  {
   "cell_type": "markdown",
   "id": "5a70172d",
   "metadata": {},
   "source": [
    "## Working with TextBlob for sentiment analysis"
   ]
  },
  {
   "cell_type": "code",
   "execution_count": 3,
   "id": "2808234e",
   "metadata": {},
   "outputs": [
    {
     "name": "stdout",
     "output_type": "stream",
     "text": [
      "Sentence: i had a great time at the movie it was really funny | Polarity: 0.525\n",
      "Sentence: i had a great time at the movie but the parking was terrible | Polarity: -0.09999999999999998\n",
      "Sentence: i had a great time at the movie but the parking wasn't great | Polarity: 0.8\n",
      "Sentence: i went to see a movie | Polarity: 0.0\n"
     ]
    }
   ],
   "source": [
    "from textblob import TextBlob\n",
    "# Polority scores range from -1 to 1\n",
    "# where -1 is very negative, 0 is neutral, and 1 is very positive\n",
    "blob_1 = TextBlob(sentence_1)\n",
    "blob_2 = TextBlob(sentence_2)\n",
    "blob_3 = TextBlob(sentence_3)\n",
    "blob_4 = TextBlob(sentence_4)\n",
    "\n",
    "print(f\"Sentence: {sentence_1} | Polarity: {blob_1.sentiment.polarity}\")\n",
    "print(f\"Sentence: {sentence_2} | Polarity: {blob_2.sentiment.polarity}\")\n",
    "print(f\"Sentence: {sentence_3} | Polarity: {blob_3.sentiment.polarity}\")\n",
    "print(f\"Sentence: {sentence_4} | Polarity: {blob_4.sentiment.polarity}\")\n",
    "\n"
   ]
  },
  {
   "cell_type": "markdown",
   "id": "ae15be68",
   "metadata": {},
   "source": [
    "## Working with Vader"
   ]
  },
  {
   "cell_type": "code",
   "execution_count": 6,
   "id": "74ebf214",
   "metadata": {},
   "outputs": [
    {
     "name": "stdout",
     "output_type": "stream",
     "text": [
      "Sentence: i had a great time at the movie it was really funny | Polarity: {'neg': 0.0, 'neu': 0.578, 'pos': 0.422, 'compound': 0.807}\n",
      "Sentence: i had a great time at the movie but the parking was terrible | Polarity: {'neg': 0.234, 'neu': 0.621, 'pos': 0.144, 'compound': -0.3818}\n",
      "Sentence: i had a great time at the movie but the parking wasn't great | Polarity: {'neg': 0.247, 'neu': 0.611, 'pos': 0.142, 'compound': -0.4387}\n",
      "Sentence: i went to see a movie | Polarity: {'neg': 0.0, 'neu': 1.0, 'pos': 0.0, 'compound': 0.0}\n"
     ]
    }
   ],
   "source": [
    "from vaderSentiment.vaderSentiment import SentimentIntensityAnalyzer\n",
    "analyzer = SentimentIntensityAnalyzer()\n",
    "\n",
    "print(f\"Sentence: {sentence_1} | Polarity: {analyzer.polarity_scores(sentence_1)}\")\n",
    "print(f\"Sentence: {sentence_2} | Polarity: {analyzer.polarity_scores(sentence_2)}\")\n",
    "print(f\"Sentence: {sentence_3} | Polarity: {analyzer.polarity_scores(sentence_3)}\")\n",
    "print(f\"Sentence: {sentence_4} | Polarity: {analyzer.polarity_scores(sentence_4)}\")"
   ]
  }
 ],
 "metadata": {
  "kernelspec": {
   "display_name": "bank-app-env",
   "language": "python",
   "name": "python3"
  },
  "language_info": {
   "codemirror_mode": {
    "name": "ipython",
    "version": 3
   },
   "file_extension": ".py",
   "mimetype": "text/x-python",
   "name": "python",
   "nbconvert_exporter": "python",
   "pygments_lexer": "ipython3",
   "version": "3.11.0"
  }
 },
 "nbformat": 4,
 "nbformat_minor": 5
}
